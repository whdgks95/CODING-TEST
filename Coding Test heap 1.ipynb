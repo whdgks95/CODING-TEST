{
 "cells": [
  {
   "cell_type": "markdown",
   "metadata": {},
   "source": [
    "# Heap - 더 맵게"
   ]
  },
  {
   "cell_type": "markdown",
   "metadata": {},
   "source": [
    "바로 아래 코드는 문제를 잘 못 이해해 만들어진 코드. 문제내용은 가장 작은 값과 그 다음 작은 값을 요구하는 것이라 'heapq' 모듈만 사용하면 간단히 풀리는 문제였는데 다르게 이해해서 이웃한 것들끼리 계산하라는 코드를 작성해버렸다.. 내가 만든 테스트 케이스들은 모두 충족하는데 답이 아니길래 고민하다가 2시간을 날렸다.. 잠은 제때 자야한다 ㅠㅠ 억울쓰"
   ]
  },
  {
   "cell_type": "code",
   "execution_count": 130,
   "metadata": {},
   "outputs": [],
   "source": [
    "import copy\n",
    "def solution1(scoville1, K):\n",
    "    \n",
    "    num = 0 \n",
    "    cnt = 0\n",
    "    hot = scoville[0]\n",
    "    \n",
    "    while num < len(scoville):\n",
    "        if len(scoville) == 1 :\n",
    "            break\n",
    "            \n",
    "        if num == len(scoville)-1:\n",
    "            if scoville[num] < K:\n",
    "                scoville[num] += scoville[num-1]*2\n",
    "                cnt +=1\n",
    "                \n",
    "                \n",
    "        if scoville[num] >= K:\n",
    "            num += 1\n",
    "            \n",
    "        else:\n",
    "            \n",
    "            if scoville[num] < scoville[num+1]:\n",
    "                hot = scoville[num] + scoville[num+1]*2\n",
    "                \n",
    "            else : \n",
    "                hot = scoville[num+1] + scoville[num]*2   \n",
    "                \n",
    "            del scoville[num:num+2]\n",
    "            scoville.insert(num,hot)\n",
    "            cnt +=1\n",
    "        \n",
    "    if hot < K:\n",
    "        return -1\n",
    "    \n",
    "    return cnt"
   ]
  },
  {
   "cell_type": "code",
   "execution_count": 128,
   "metadata": {},
   "outputs": [
    {
     "data": {
      "text/plain": [
       "4"
      ]
     },
     "execution_count": 128,
     "metadata": {},
     "output_type": "execute_result"
    }
   ],
   "source": [
    "a = [0,0,0,0,3]\n",
    "solution(a,4)"
   ]
  },
  {
   "cell_type": "markdown",
   "metadata": {},
   "source": [
    "a"
   ]
  },
  {
   "cell_type": "code",
   "execution_count": null,
   "metadata": {},
   "outputs": [],
   "source": [
    "아래는 문제를 통과한 코드이다."
   ]
  },
  {
   "cell_type": "code",
   "execution_count": 124,
   "metadata": {},
   "outputs": [],
   "source": [
    "import heapq"
   ]
  },
  {
   "cell_type": "code",
   "execution_count": 174,
   "metadata": {},
   "outputs": [],
   "source": [
    "def solution(scoville, K):\n",
    "    heapq.heapify(scoville)\n",
    "    answer = 0\n",
    "    while len(scoville)>=2:\n",
    "        min = heapq.heappop(scoville)\n",
    "        if min>=K:\n",
    "            return answer\n",
    "        else:\n",
    "            sec = heapq.heappop(scoville)\n",
    "            heapq.heappush(scoville, min+sec*2)\n",
    "            answer += 1\n",
    "        \n",
    "    if scoville[0]<K:\n",
    "        return -1\n",
    "    return answer"
   ]
  },
  {
   "cell_type": "code",
   "execution_count": 175,
   "metadata": {},
   "outputs": [
    {
     "data": {
      "text/plain": [
       "4"
      ]
     },
     "execution_count": 175,
     "metadata": {},
     "output_type": "execute_result"
    }
   ],
   "source": [
    "a = [0, 0, 0, 0, 3]\n",
    "\n",
    "solution(a,3)"
   ]
  },
  {
   "cell_type": "code",
   "execution_count": null,
   "metadata": {},
   "outputs": [],
   "source": []
  },
  {
   "cell_type": "code",
   "execution_count": null,
   "metadata": {},
   "outputs": [],
   "source": []
  },
  {
   "cell_type": "code",
   "execution_count": null,
   "metadata": {},
   "outputs": [],
   "source": []
  }
 ],
 "metadata": {
  "kernelspec": {
   "display_name": "Python 3",
   "language": "python",
   "name": "python3"
  },
  "language_info": {
   "codemirror_mode": {
    "name": "ipython",
    "version": 3
   },
   "file_extension": ".py",
   "mimetype": "text/x-python",
   "name": "python",
   "nbconvert_exporter": "python",
   "pygments_lexer": "ipython3",
   "version": "3.7.9"
  }
 },
 "nbformat": 4,
 "nbformat_minor": 4
}
